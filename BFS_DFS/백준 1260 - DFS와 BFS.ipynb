{
 "cells": [
  {
   "cell_type": "code",
   "execution_count": 12,
   "metadata": {
    "scrolled": false
   },
   "outputs": [
    {
     "name": "stdout",
     "output_type": "stream",
     "text": [
      "5 5 3\n",
      "5 4\n",
      "5 2\n",
      "1 2\n",
      "3 4\n",
      "3 1\n",
      "3 1 2 5 4 \n",
      "3 1 4 2 5 "
     ]
    }
   ],
   "source": [
    "# 입력 변수 받기\n",
    "N, M, V = map(int, input().split())\n",
    "\n",
    "# 인접 영행렬 생성\n",
    "matrix=[[0] * (N + 1) for i in range(N + 1)]\n",
    "\n",
    "# 방문한 곳 체크를 위한 배열 선언\n",
    "visited = [0] * (N + 1)\n",
    "\n",
    "# 입력 받는 두 값에 대해 영행렬에 1 삽입\n",
    "for i in range(M):\n",
    "    a, b = map(int, input().split())\n",
    "    matrix[a][b] = matrix[b][a] = 1\n",
    "\n",
    "\n",
    "def dfs(V):\n",
    "    # 방문한 곳은 1 넣기\n",
    "    visited[V] = 1\n",
    "    \n",
    "    print(V, end=' ')\n",
    "    \n",
    "    # 재귀 함수 선언(V와 인접한 곳을 찾고 방문하지 않았다면 함수 실행)\n",
    "    for i in range(1,N+1):\n",
    "        if(visited[i]==0 and matrix[V][i]==1):\n",
    "            dfs(i)\n",
    "\n",
    "            \n",
    "def bfs(V):\n",
    "    # 방문해야 할 곳을 순서대로 넣을 큐\n",
    "    queue = [V]\n",
    "    \n",
    "    # dfs 를 완료한 visited 배열(1로 되어있음)에서 0으로 방문체크\n",
    "    visited[V] = 0\n",
    "    \n",
    "    # 큐 안에 데이터가 없을 때 까지\n",
    "    while queue:\n",
    "        V = queue.pop(0)\n",
    "        print(V, end=' ')\n",
    "        for i in range(1, N + 1):\n",
    "            if(visited[i] == 1 and matrix[V][i] == 1):\n",
    "                queue.append(i)\n",
    "                visited[i] = 0\n",
    "\n",
    "dfs(V)\n",
    "print()\n",
    "bfs(V)"
   ]
  }
 ],
 "metadata": {
  "kernelspec": {
   "display_name": "Python 3",
   "language": "python",
   "name": "python3"
  },
  "language_info": {
   "codemirror_mode": {
    "name": "ipython",
    "version": 3
   },
   "file_extension": ".py",
   "mimetype": "text/x-python",
   "name": "python",
   "nbconvert_exporter": "python",
   "pygments_lexer": "ipython3",
   "version": "3.6.10"
  }
 },
 "nbformat": 4,
 "nbformat_minor": 4
}
