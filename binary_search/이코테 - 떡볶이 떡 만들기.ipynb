{
 "cells": [
  {
   "cell_type": "code",
   "execution_count": 28,
   "metadata": {},
   "outputs": [
    {
     "name": "stdout",
     "output_type": "stream",
     "text": [
      "4 6\n",
      "19 15 10 17\n",
      "15\n"
     ]
    }
   ],
   "source": [
    "# 입력값 받기\n",
    "n, m = map(int, input().split())\n",
    "arr = list(map(int, input().split()))\n",
    "\n",
    "# 이분탐색을 위한 시작점과 끝점 선언\n",
    "start = 0\n",
    "end = max(arr)\n",
    "\n",
    "# 이분 탐색을 위한 반복문 시작\n",
    "answer = 0\n",
    "while start <= end:\n",
    "    # mid : 큰 범위에서 탐색시간을 줄이기 위해 중간값을 기준.\n",
    "    mid = (start + end) // 2\n",
    "    count = 0\n",
    "    \n",
    "    # 떡의 길이를 하나하나 보고 기준보다 클 때가 떡이 남으니 결과를 저장\n",
    "    for i in arr:\n",
    "        if i > mid:\n",
    "            count += (i - mid)\n",
    "    \n",
    "    # 남은 떡의 길이의 합이 고객이 원하는 양보다 크면\n",
    "    # answer 에 기준을 저장하고, 더 줄일 수 있는지 start 선을 좁혀봄\n",
    "    if count >= m:\n",
    "        start = mid + 1\n",
    "        answer = mid\n",
    "    # 남은 떡의 길이의 합이 고객이 원하는 양에 못미치면\n",
    "    # 기준을 다시 줄임\n",
    "    else:\n",
    "        end = mid - 1\n",
    "        \n",
    "print(answer)"
   ]
  },
  {
   "cell_type": "code",
   "execution_count": null,
   "metadata": {},
   "outputs": [],
   "source": []
  }
 ],
 "metadata": {
  "kernelspec": {
   "display_name": "Python 3",
   "language": "python",
   "name": "python3"
  },
  "language_info": {
   "codemirror_mode": {
    "name": "ipython",
    "version": 3
   },
   "file_extension": ".py",
   "mimetype": "text/x-python",
   "name": "python",
   "nbconvert_exporter": "python",
   "pygments_lexer": "ipython3",
   "version": "3.6.10"
  }
 },
 "nbformat": 4,
 "nbformat_minor": 4
}
