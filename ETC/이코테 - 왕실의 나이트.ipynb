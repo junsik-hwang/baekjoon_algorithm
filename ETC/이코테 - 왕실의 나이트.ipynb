{
 "cells": [
  {
   "cell_type": "code",
   "execution_count": 51,
   "metadata": {},
   "outputs": [
    {
     "name": "stdout",
     "output_type": "stream",
     "text": [
      "a1\n",
      "2\n"
     ]
    }
   ],
   "source": [
    "point = input()\n",
    "count = 0\n",
    "\n",
    "# x, y 좌표와 더했을 때 8 X 8 평면 밖으로 벗어나는 것을 계산하기 위한 기준 선언\n",
    "judge = [(-2,-1), (-2, 1), (-1, -2), (1, -2), (2, -1), (2, 1), (1, 2), (-1, 2)]\n",
    "\n",
    "# 알파벳과 숫자를 나누어 저장\n",
    "a, b = list(point)\n",
    "\n",
    "# index 표시가 0부터 시작하는 것이 개인적으로 익숙하기 때문에 0부터 설정\n",
    "x = ord(a) - 97\n",
    "y = int(b) - 1\n",
    "\n",
    "# 현재 좌표 x, y 와 기준 좌표 a, b 를 더하여 판단\n",
    "for a, b in judge:\n",
    "    if not (x + a < 0 or y + b < 0 or x + a > 7 or y + b > 7):\n",
    "        count += 1\n",
    "print(count)"
   ]
  },
  {
   "cell_type": "code",
   "execution_count": null,
   "metadata": {},
   "outputs": [],
   "source": []
  }
 ],
 "metadata": {
  "kernelspec": {
   "display_name": "Python 3",
   "language": "python",
   "name": "python3"
  },
  "language_info": {
   "codemirror_mode": {
    "name": "ipython",
    "version": 3
   },
   "file_extension": ".py",
   "mimetype": "text/x-python",
   "name": "python",
   "nbconvert_exporter": "python",
   "pygments_lexer": "ipython3",
   "version": "3.6.10"
  }
 },
 "nbformat": 4,
 "nbformat_minor": 4
}
